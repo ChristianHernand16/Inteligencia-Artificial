{
 "cells": [
  {
   "cell_type": "markdown",
   "metadata": {},
   "source": [
    "# Busqueda por Amplitud\n",
    "\n",
    "A continuacion se ejemplifica la busqueda por amplitud revisada en clase. Para ello se tiene un ejemplo de las ciudades del territorio Ecuatoriano.\n"
   ]
  },
  {
   "cell_type": "code",
   "execution_count": 9,
   "metadata": {},
   "outputs": [],
   "source": [
    "class Node:\n",
    "    def __init__(self, data, child=None): # Constructor de la clase\n",
    "        self.data = data\n",
    "        self.child = None\n",
    "        self.fathr = None\n",
    "        self.cost = None\n",
    "        self.set_child(child)\n",
    "\n",
    "    def set_child(self, child): # Agregar hijos\n",
    "        self.child = child\n",
    "        if self.child is not None:\n",
    "            for ch in self.child:\n",
    "                ch.fathr = self\n",
    "            \n",
    "    def equal(self, node): # Igual al equals de Java\n",
    "        if self.data == node.data:\n",
    "            return True\n",
    "        else:\n",
    "            return False\n",
    "\n",
    "    def on_list(self, node_list): # Verfiicar su el nodo esta en la lista\n",
    "        listed = False\n",
    "        for n in node_list:\n",
    "            if self.equal(n):\n",
    "                listed = True\n",
    "        return listed\n",
    "\n",
    "    def __str__(self): # Igual al toString Java\n",
    "        return str(self.data)\n"
   ]
  },
  {
   "cell_type": "code",
   "execution_count": 10,
   "metadata": {},
   "outputs": [
    {
     "name": "stdout",
     "output_type": "stream",
     "text": [
      "['Guayaquil', 'Ambato']\n"
     ]
    }
   ],
   "source": [
    "def search_Amplitud_solution(connections, init_state, solution):\n",
    "    solved = False # Variable para almacenar el estado de la busqueda\n",
    "    visited_nodes = [] # Nodos visitados\n",
    "    frontrs_nodes = [] # Nodos en busqueda o lista nodos\n",
    "\n",
    "    init_node = Node(init_state) # Nodo inicial\n",
    "    frontrs_nodes.append(init_node)\n",
    "    while (not solved) and len(frontrs_nodes) != 0:\n",
    "        node = frontrs_nodes[0]\n",
    "        # extraer nodo y añadirlo a visitados\n",
    "        visited_nodes.append(frontrs_nodes.pop(0))\n",
    "        if node.data == solution: # Preguntar se el nodo obtenido es la solucion\n",
    "            solved = True\n",
    "            return node # Retornamos el nodo de la solucion\n",
    "        else:\n",
    "            # expandir nodos hijo - ciudades con conexion\n",
    "            node_data = node.data\n",
    "            child_list = []\n",
    "            for chld in connections[node_data]:\n",
    "                child = Node(chld)\n",
    "                child_list.append(child)\n",
    "                if not child.on_list(visited_nodes) and not child.on_list(frontrs_nodes):\n",
    "                    frontrs_nodes.append(child)\n",
    "            node.set_child(child_list)\n",
    "\n",
    "\n",
    "if __name__ == \"__main__\":\n",
    " \n",
    "    connections = {\n",
    "        'Cuenca': {'Riobamba', 'Quito', 'Guayaquil'},\n",
    "        'Latacunga': {'Ambato', 'Quito'},\n",
    "        'Esmeraldas': {'Manta'},\n",
    "        'Manta': {'Guayaquil'},\n",
    "        'Quito': {'Riobamba', 'Latacunga', 'Cuenca', 'Guayaquil', 'Puyo'},\n",
    "        'Riobamba': {'Cuenca', 'Quito'},\n",
    "        'Ambato': {'Latacunga', 'Puyo', 'Guayaquil'},\n",
    "        'Puyo': {'Ambato', 'Quito'},\n",
    "        'Machala': {'Guayaquil'},\n",
    "        'Guayaquil': {'Machala', 'Ambato', 'Quito', 'Cuenca', 'Manta'}\n",
    "    }\n",
    "\n",
    "    init_state = 'Guayaquil'\n",
    "    solution = 'Ambato'\n",
    "    solution_node = search_Amplitud_solution(connections, init_state, solution)\n",
    "    # mostrar resultado\n",
    "    result = []\n",
    "    node = solution_node\n",
    "    if node is not None: \n",
    "        while node.fathr is not None:\n",
    "            result.append(node.data)\n",
    "            node = node.fathr\n",
    "        result.append(init_state)\n",
    "        result.reverse() # Reverso el resultado (Solo para presentar)\n",
    "        print(result)\n",
    "    else:\n",
    "        print(\"No hay solucion !!!!\")"
   ]
  },
  {
   "cell_type": "markdown",
   "metadata": {},
   "source": [
    "# Tarea: Cálculo del factor de ramificación\n",
    "Realice el cálculo del factor de ramificación del problema de las N reinas (con N = 4). Para ello deberá realizar las siguientes actividades:\n",
    "\n",
    "Asumir que el factor de ramificación es constante.\n",
    "Despejar el valor de b\n",
    "Consultar sitios externos sobre cómo realizar el cálculo"
   ]
  },
  {
   "cell_type": "markdown",
   "metadata": {},
   "source": [
    "# Agregar la solucion en markdown (Informe)\n",
    "\\begin{equation*}\n",
    "n =\n",
    "\\frac{b^{d+1}-1}{b-1}\n",
    "\\end{equation*}\n",
    "\\begin{equation*}\n",
    "n=\n",
    "\\frac{b^{17}-1}{b-1}  \n",
    "\\end{equation*}\n",
    "\n",
    "Factorizamos la ecuacion \n",
    "\n",
    "\\begin{equation*}\n",
    "n= b^{17}-1 \n",
    "\\end{equation*}\n",
    "\n",
    " y Eliminamos (b-1)\n",
    "\\begin{equation*}\n",
    "n=\n",
    "\\frac {(b-1){(b^{16}+ b^{15}+b^{14}+b^{13}+b^{12}+b^{11}+b^{10}+b^9+b^8+b^7+b^6+b^5+b^4+b^3+b^2+b+1)}}{b-1}  \n",
    "\\end{equation*}\n",
    "\n",
    "Remplazamos los valores n=4 \n",
    "\\begin{equation*}\n",
    "4=(b^{16}+ b^{15}+b^{14}+b^{13}+b^{12}+b^{11}+b^{10}+b^9+b^8+b^7+b^6+b^5+b^4+b^3+b^2+b+1)\n",
    "\\end{equation*}\n",
    "\n",
    "\n",
    "\\begin{equation*}\n",
    "(b^{16}+ b^{15}+b^{14}+b^{13}+b^{12}+b^{11}+b^{10}+b^9+b^8+b^7+b^6+b^5+b^4+b^3+b^2+b+1)=4\n",
    "\\end{equation*}\n",
    "\n",
    "\n",
    "\\begin{equation*}\n",
    "(b^{16}+ b^{15}+b^{14}+b^{13}+b^{12}+b^{11}+b^{10}+b^9+b^8+b^7+b^6+b^5+b^4+b^3+b^2+b+1-4)=4-4\n",
    "\\end{equation*}\n",
    "\n",
    "\\begin{equation*}\n",
    "(b^{16}+ b^{15}+b^{14}+b^{13}+b^{12}+b^{11}+b^{10}+b^9+b^8+b^7+b^6+b^5+b^4+b^3+b^2+b-3)=0\n",
    "\\end{equation*}"
   ]
  },
  {
   "cell_type": "markdown",
   "metadata": {},
   "source": [
    "## Practica\n",
    "\n",
    "Implementar un algoritmo que me permita dibujar las conexiones y los resultados del grafo.\n",
    "\n",
    "Mediante el uso de la herramienta de Google Maps tomar al su direccion domiciliaria como punto de partida y generar un arbol jerarquico con todos los posibles Hospitales, para ello se debe tener como primer nivel los mas cercanos y a continuacion los demas.\n",
    "\n",
    "\n",
    "Realizar los calculos para obtener el factor de ramificacion, análisis del algoritmo en términos de completitud, optimalidad, complejidad temporal y complejidad espacial.\n",
    "\n",
    "\n",
    "Subir el cuaderno con la resolucion"
   ]
  },
  {
   "cell_type": "code",
   "execution_count": 3,
   "metadata": {},
   "outputs": [
    {
     "data": {
      "image/png": "[encoded data removed]",
      "text/plain": [
       "<Figure size 432x288 with 1 Axes>"
      ]
     },
     "metadata": {},
     "output_type": "display_data"
    },
    {
     "name": "stdout",
     "output_type": "stream",
     "text": [
      "Nodos:  11 ['Cuenca', 'Riobamba', 'Quito', 'Guayaquil', 'Latacunga', 'Ambato', 'Esmeraldas', 'Manta', 'Puyo', 'Machala', 'Amabato']\n",
      "Enlaces:  16 [('Cuenca', 'Riobamba'), ('Cuenca', 'Quito'), ('Cuenca', 'Latacunga'), ('Cuenca', 'Guayaquil'), ('Cuenca', 'Manta'), ('Riobamba', 'Quito'), ('Quito', 'Guayaquil'), ('Quito', 'Ambato'), ('Guayaquil', 'Manta'), ('Guayaquil', 'Puyo'), ('Guayaquil', 'Machala'), ('Latacunga', 'Ambato'), ('Latacunga', 'Puyo'), ('Ambato', 'Puyo'), ('Esmeraldas', 'Manta'), ('Machala', 'Amabato')]\n"
     ]
    }
   ],
   "source": [
    "import os, sys\n",
    " \n",
    "#Grafos\n",
    " \n",
    "import networkx as nx\n",
    "import matplotlib.pyplot as plt\n",
    "G=nx.Graph()\n",
    "G.add_node(\"Cuenca\")\n",
    "G.add_nodes_from([\"Riobamba\",\"Quito\",\"Guayaquil\"])\n",
    "G.add_edge(\"Riobamba\",\"Cuenca\")\n",
    "G.add_edge(\"Quito\",\"Cuenca\")\n",
    "G.add_edge(\"Quito\",\"Riobamba\")\n",
    "G.add_edge(\"Cuenca\",\"Riobamba\")\n",
    "G.add_edge(\"Riobamba\",\"Quito\")\n",
    "G.add_edge(\"Quito\",\"Guayaquil\")\n",
    "G.add_node(\"Latacunga\")\n",
    "G.add_edge(\"Latacunga\",\"Ambato\")\n",
    "G.add_edge(\"Ambato\",\"Quito\")\n",
    "G.add_node(\"Esmeraldas\")\n",
    "G.add_edge(\"Esmeraldas\",\"Manta\")\n",
    "G.add_node(\"Manta\")\n",
    "G.add_edge(\"Manta\",\"Guayaquil\")\n",
    "G.add_node(\"Quito\")\n",
    "G.add_edge(\"Quito\",\"Riobamba\")\n",
    "G.add_edge(\"Latacunga\",\"Cuenca\")\n",
    "G.add_edge(\"Cuenca\",\"Guayaquil\")\n",
    "G.add_edge(\"Guayaquil\",\"Puyo\")\n",
    "G.add_node(\"Riobamba\")\n",
    "G.add_edge(\"Cuenca\",\"Riobamba\")\n",
    "G.add_edge(\"Cuenca\",\"Quito\")\n",
    "G.add_node(\"Ambato\")\n",
    "G.add_edge(\"Ambato\",\"Latacunga\")\n",
    "G.add_edge(\"Latacunga\",\"Puyo\")\n",
    "G.add_edge(\"Puyo\",\"Guayaquil\")\n",
    "G.add_node(\"Puyo\")\n",
    "G.add_edge(\"Puyo\",\"Ambato\")\n",
    "G.add_edge(\"Ambato\",\"Quito\")\n",
    "G.add_node(\"Machala\")\n",
    "G.add_edge(\"Machala\",\"Guayaquil\")\n",
    "G.add_node(\"Guayaquil\")\n",
    "G.add_edge(\"Guayaquil\",\"Machala\")\n",
    "G.add_edge(\"Machala\",\"Amabato\")\n",
    "G.add_edge(\"Ambato\",\"Quito\")\n",
    "G.add_edge(\"Quito\",\"Cuenca\")\n",
    "G.add_edge(\"Cuenca\",\"Manta\")\n",
    "\n",
    " \n",
    "nx.draw_circular(G,with_labels=True,node_size=2500,node_color='y')\n",
    "plt.show()\n",
    "print (\"Nodos: \", G.number_of_nodes(),G.nodes())\n",
    "print (\"Enlaces: \", G.number_of_edges(),G.edges())\n",
    " \n"
   ]
  },
  {
   "cell_type": "code",
   "execution_count": 1,
   "metadata": {},
   "outputs": [],
   "source": [
    "# Busqueda en Amplitud - Breadth First Search\n",
    "\n",
    "#Hospitales\n",
    "\n",
    "# Creamos la clase Nodo\n",
    "class Node:\n",
    "    def __init__(self, data, child=None): # Constructor de la clase\n",
    "        self.data = data\n",
    "        self.child = None\n",
    "        self.fathr = None\n",
    "        self.cost = None\n",
    "        self.set_child(child)\n",
    "\n",
    "    def set_child(self, child): # Agregar hijos\n",
    "        self.child = child\n",
    "        if self.child is not None:\n",
    "            for ch in self.child:\n",
    "                ch.fathr = self\n",
    "            \n",
    "    def equal(self, node): # Igual al equals de Java\n",
    "        if self.data == node.data:\n",
    "            return True\n",
    "        else:\n",
    "            return False\n",
    "\n",
    "    def on_list(self, node_list): # Verfiicar su el nodo esta en la lista\n",
    "        listed = False\n",
    "        for n in node_list:\n",
    "            if self.equal(n):\n",
    "                listed = True\n",
    "        return listed\n",
    "\n",
    "    def __str__(self): # Igual al toString Java\n",
    "        return str(self.data)\n"
   ]
  },
  {
   "cell_type": "code",
   "execution_count": 2,
   "metadata": {},
   "outputs": [
    {
     "name": "stdout",
     "output_type": "stream",
     "text": [
      "['Hospital Monte Sinai', 'HopitalBolivar', 'IESS']\n"
     ]
    }
   ],
   "source": [
    "def search_Amplitud_solution(connections, init_state, solution):\n",
    "    solved = False # Variable para almacenar el estado de la busqueda\n",
    "    visited_nodes = [] # Nodos visitados\n",
    "    frontrs_nodes = [] # Nodos en busqueda o lista nodos\n",
    "\n",
    "    init_node = Node(init_state) # Nodo inicial\n",
    "    frontrs_nodes.append(init_node)\n",
    "    while (not solved) and len(frontrs_nodes) != 0:\n",
    "        node = frontrs_nodes[0]\n",
    "        # extraer nodo y añadirlo a visitados\n",
    "        visited_nodes.append(frontrs_nodes.pop(0))\n",
    "        if node.data == solution: # Preguntar se el nodo obtenido es la solucion\n",
    "            solved = True\n",
    "            return node # Retornamos el nodo de la solucion\n",
    "        else:\n",
    "            # expandir nodos hijo - ciudades con conexion\n",
    "            node_data = node.data\n",
    "            child_list = []\n",
    "            for chld in connections[node_data]:\n",
    "                child = Node(chld)\n",
    "                child_list.append(child)\n",
    "                if not child.on_list(visited_nodes) and not child.on_list(frontrs_nodes):\n",
    "                    frontrs_nodes.append(child)\n",
    "            node.set_child(child_list)\n",
    "\n",
    "\n",
    "if __name__ == \"__main__\":\n",
    " \n",
    "    connections = {\n",
    "        'Hospital Monte Sinai': {'Clinica Santa Ines', 'HopitalBolivar'},\n",
    "        'Clinica Paucarbamba': {'Hospital San Juan de Dios', 'Hopital Bolivar'},\n",
    "        'Solca': {'Hospital Vicente Corral'},\n",
    "        'Hospital Vicente Corral': {'IESS'},\n",
    "        'HopitalBolivar': { 'Clinica Paucarbamba', 'Hospital Monte Sinai', 'IESS', 'Solca'},\n",
    "        'Clinica Santa Ines': {'Hospital Monte Sinai', 'Hopital Boliva'},\n",
    "        'Hospital San Juan de Dios': {'Clinica Paucarbamba', 'Solca', 'IESS'}\n",
    "        \n",
    "        \n",
    "    }\n",
    "\n",
    "    init_state = 'Hospital Monte Sinai'\n",
    "    solution = 'IESS'\n",
    "    solution_node = search_Amplitud_solution(connections, init_state, solution)\n",
    "    # mostrar resultado\n",
    "    result = []\n",
    "    node = solution_node\n",
    "    if node is not None: \n",
    "        while node.fathr is not None:\n",
    "            result.append(node.data)\n",
    "            node = node.fathr\n",
    "        result.append(init_state)\n",
    "        result.reverse() # Reverso el resultado (Solo para presentar)\n",
    "        print(result)\n",
    "    else:\n",
    "        print(\"No hay solucion !!!!\")"
   ]
  },
  {
   "cell_type": "code",
   "execution_count": 14,
   "metadata": {
    "scrolled": true
   },
   "outputs": [
    {
     "name": "stdout",
     "output_type": "stream",
     "text": [
      "[[4, 2, 3, 1], [2, 4, 3, 1], [2, 3, 4, 1], [2, 3, 1, 4], [2, 1, 3, 4], [1, 2, 3, 4]]\n"
     ]
    }
   ],
   "source": [
    "# Implementar"
   ]
  },
  {
   "cell_type": "markdown",
   "metadata": {},
   "source": [
    "# Conclusiones\n",
    "\n",
    "Realizado el respectivo trabajo fue tratar de buscar una solución adecuada para todos los métodos planteados.\n",
    "Logrando implementar código que nos servirá para los métodos de amplitud de las provincias y los hospitales donde tiene su grafica.\n"
   ]
  }
 ],
 "metadata": {
  "kernelspec": {
   "display_name": "Python 3",
   "language": "python",
   "name": "python3"
  },
  "language_info": {
   "codemirror_mode": {
    "name": "ipython",
    "version": 3
   },
   "file_extension": ".py",
   "mimetype": "text/x-python",
   "name": "python",
   "nbconvert_exporter": "python",
   "pygments_lexer": "ipython3",
   "version": "3.7.6"
  }
 },
 "nbformat": 4,
 "nbformat_minor": 2
}
