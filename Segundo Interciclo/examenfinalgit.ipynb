{
 "cells": [
  {
   "cell_type": "markdown",
   "metadata": {},
   "source": [
    "# Language Translator"
   ]
  },
  {
   "cell_type": "code",
   "execution_count": 4,
   "metadata": {},
   "outputs": [],
   "source": [
    "import json\n",
    "from ibm_watson import LanguageTranslatorV3\n",
    "from ibm_cloud_sdk_core.authenticators import IAMAuthenticator"
   ]
  },
  {
   "cell_type": "code",
   "execution_count": 23,
   "metadata": {},
   "outputs": [
    {
     "name": "stdout",
     "output_type": "stream",
     "text": [
      "{\n",
      "  \"translations\": [\n",
      "    {\n",
      "      \"translation\": \"Titre: Ingénieur / Mécanicien / Mode: Siège: Cuenca, Quito Durée: 8 périodes\"\n",
      "    }\n",
      "  ],\n",
      "  \"word_count\": 20,\n",
      "  \"character_count\": 94\n",
      "}\n"
     ]
    }
   ],
   "source": [
    "authenticator = IAMAuthenticator('5ZJvLW6YOPBzpv4quNRUWaamMv6G6UjpQ48A3LpiRi4a')\n",
    "language_translator = LanguageTranslatorV3(\n",
    "    version='2018-05-01',\n",
    "    authenticator=authenticator\n",
    ")\n",
    "\n",
    "language_translator.set_service_url('https://api.us-south.language-translator.watson.cloud.ibm.com/instances/2ab53c20-b1ed-44e8-9ec9-68ed2dfa5d84')\n",
    "\n",
    "translation = language_translator.translate(\n",
    "    text='Título: Ingeniero/a Mecánico/a Modalidad: Presencial Sede: Cuenca, Quito  Duración: 8 períodos',\n",
    "\n",
    "    model_id='es-fr').get_result()\n",
    "print(json.dumps(translation, indent=2, ensure_ascii=False))"
   ]
  },
  {
   "cell_type": "code",
   "execution_count": 24,
   "metadata": {},
   "outputs": [
    {
     "name": "stdout",
     "output_type": "stream",
     "text": [
      "{\n",
      "  \"translations\": [\n",
      "    {\n",
      "      \"translation\": \"Description générale de la Carrera .Former Ingénieurs / euses Mécanes avec excellence humaine et académique, fondée sur des valeurs, des principes éthiques et moraux, de justice, de liberté, de solidarité et de conscience écologique ; capable de résoudre les problèmes de l'homme et de la société en considérant comme prémisse fondamentale le Carisma Salesian ; par la conception, la recherche, l'innovation, la gestion de la maintenance, l'amélioration de la qualité, la productivité et la compétitivité ; le transfert et désagrégation technologique, l'exploitation de biorecurses ; en étant capable optimiser les processus de production dans les différents domaines de votre travail avec une haute capacité de planifier, de conseiller, d'organiser, de superviser et de gérer des équipes de travail, des entreprises industrielles, des entreprises, des services et de devenir le gestionnaire de votre propre entreprise, afin de stimuler le développement du pays\"\n",
      "    }\n",
      "  ],\n",
      "  \"word_count\": 147,\n",
      "  \"character_count\": 895\n",
      "}\n"
     ]
    }
   ],
   "source": [
    "authenticator = IAMAuthenticator('5ZJvLW6YOPBzpv4quNRUWaamMv6G6UjpQ48A3LpiRi4a')\n",
    "language_translator = LanguageTranslatorV3(\n",
    "    version='2018-05-01',\n",
    "    authenticator=authenticator\n",
    ")\n",
    "\n",
    "language_translator.set_service_url('https://api.us-south.language-translator.watson.cloud.ibm.com/instances/2ab53c20-b1ed-44e8-9ec9-68ed2dfa5d84')\n",
    "\n",
    "translation = language_translator.translate(\n",
    "    text='Descripción General de la Carrera .Formar Ingenieros/as Mecánicos con excelencia humana y académica, basándose en valores, principios éticos y morales, de justicia, libertad, solidaridad y conciencia ecológica; capaces de dar solución a los problemas del hombre y de la sociedad considerando como premisa fundamental el Carisma Salesiano; mediante el diseño, la investigación, la innovación, la gestión del mantenimiento, la mejora de la calidad, la productividad y competitividad; la transferencia y desagregación tecnológica, el aprovechamiento de biorecursos; siendo capaz de optimizar procesos productivos en las diferentes áreas de su desempeño laboral con una alta capacidad de planificar, asesorar, organizar, supervisar y administrar equipos de trabajo, empresas industriales, comerciales, de servicio y convirtiéndose en gestor de su propia empresa, para impulsar el desarrollo del país',\n",
    "\n",
    "    model_id='es-fr').get_result()\n",
    "print(json.dumps(translation, indent=2, ensure_ascii=False))"
   ]
  },
  {
   "cell_type": "code",
   "execution_count": 25,
   "metadata": {},
   "outputs": [
    {
     "name": "stdout",
     "output_type": "stream",
     "text": [
      "{\n",
      "  \"translations\": [\n",
      "    {\n",
      "      \"translation\": \"Les fonctions et les rôles dans lesquels les futurs professionnels travailleront s'encadrent dans les secteurs suivants: primaire, secondaire et tertiaire de la production. Dans le secteur primaire par la production de matières premières, par l'exploitation durable des ressources minières et pétrolières, au profit de l'économie productive, en envisagetant des plans d'atténuation à moyen et à long terme. Dans le secteur secondaire par la conception, la recherche et l'innovation, le transfert et la désagrégation technologique, l'optimisation des procédés de production, le développement de nouveaux matériaux, ainsi que le secteur de la production du pays. Dans le secteur tertiaire qui se concentre sur la fourniture de services à la société, aux personnes et aux entreprises ; les sous-secteurs auxquels s'applique la course de mécanique sont les suivants: commerce, transports, communications, finances, tourisme, administration publique, sécurité, santé et éducation.\"\n",
      "    }\n",
      "  ],\n",
      "  \"word_count\": 160,\n",
      "  \"character_count\": 933\n",
      "}\n"
     ]
    }
   ],
   "source": [
    "authenticator = IAMAuthenticator('5ZJvLW6YOPBzpv4quNRUWaamMv6G6UjpQ48A3LpiRi4a')\n",
    "language_translator = LanguageTranslatorV3(\n",
    "    version='2018-05-01',\n",
    "    authenticator=authenticator\n",
    ")\n",
    "\n",
    "language_translator.set_service_url('https://api.us-south.language-translator.watson.cloud.ibm.com/instances/2ab53c20-b1ed-44e8-9ec9-68ed2dfa5d84')\n",
    "\n",
    "translation = language_translator.translate(\n",
    "    text='Escenario Laboral Las funciones y roles en los que actuarán los futuros profesionales se enmarcan en los sectores: primario, secundario y terciario de la producción. En el sector primario a través de la obtención de materias primas, mediante explotación sustentable de los recursos mineros y del petróleo, en beneficio de la economía productiva, considerando planes de mitigación a mediano y largo plazo. En el sector secundario a través del diseño, la investigación e innovación, la transferencia y desagregación tecnológica, optimización de procesos productivos, desarrollo de nuevos materiales, tecnificando así el sector de la producción del país. En el sector terciario que está centrado en la prestación de servicios a la sociedad, personas y empresas; los subsectores en los que se aplica la carrera de Mecánica son: comercio, transporte, comunicaciones, finanzas, turismo, administración pública, seguridad, salud y educación',\n",
    "    model_id='es-fr').get_result()\n",
    "print(json.dumps(translation, indent=2, ensure_ascii=False))"
   ]
  },
  {
   "cell_type": "code",
   "execution_count": 26,
   "metadata": {},
   "outputs": [
    {
     "name": "stdout",
     "output_type": "stream",
     "text": [
      "{\n",
      "  \"translations\": [\n",
      "    {\n",
      "      \"translation\": \"En outre, les futurs professionnels de la carrière de mécanique seront les plus petits, les plus médians et les plus importants de l'industrie, qu'ils soient de service public ou privé, dans des domaines tels que:\"\n",
      "    }\n",
      "  ],\n",
      "  \"word_count\": 30,\n",
      "  \"character_count\": 171\n",
      "}\n"
     ]
    }
   ],
   "source": [
    "authenticator = IAMAuthenticator('5ZJvLW6YOPBzpv4quNRUWaamMv6G6UjpQ48A3LpiRi4a')\n",
    "language_translator = LanguageTranslatorV3(\n",
    "    version='2018-05-01',\n",
    "    authenticator=authenticator\n",
    ")\n",
    "\n",
    "language_translator.set_service_url('https://api.us-south.language-translator.watson.cloud.ibm.com/instances/2ab53c20-b1ed-44e8-9ec9-68ed2dfa5d84')\n",
    "\n",
    "translation = language_translator.translate(\n",
    "    text='Además los futuros profesionales de la carrera de Mecánica actuarán en la pequeña, mediana y gran industria sean éstas de servicio público o privado, en ámbitos tales como',\n",
    "\n",
    "    model_id='es-fr').get_result()\n",
    "print(json.dumps(translation, indent=2, ensure_ascii=False))"
   ]
  },
  {
   "cell_type": "code",
   "execution_count": 27,
   "metadata": {},
   "outputs": [
    {
     "name": "stdout",
     "output_type": "stream",
     "text": [
      "{\n",
      "  \"translations\": [\n",
      "    {\n",
      "      \"translation\": \"Les processus de conception, de production de pièces et de machines dans des entreprises telles que: Continental Tyres, General Motors Omnibuses BB, Metaltronic, Aymesa, Indufrance, entre autres, où il faut des ingénieurs innovateurs pour que leurs produits puissent être acceptés non seulement au niveau national mais aussi international par l'utilisation de paquets informatiques. Champs de recherche, de développement, d'innovation et de technicification au niveau industriel ou éducatif, où il est nécessaire de disposer d'Ingénieurs mécaniques qui peuvent, par la recherche, fournir une valeur ajoutée aux produits et qui de cette manière innovant, en appliquant l'automatisation industrielle.\"\n",
      "    }\n",
      "  ],\n",
      "  \"word_count\": 104,\n",
      "  \"character_count\": 651\n",
      "}\n"
     ]
    }
   ],
   "source": [
    "authenticator = IAMAuthenticator('5ZJvLW6YOPBzpv4quNRUWaamMv6G6UjpQ48A3LpiRi4a')\n",
    "language_translator = LanguageTranslatorV3(\n",
    "    version='2018-05-01',\n",
    "    authenticator=authenticator\n",
    ")\n",
    "\n",
    "language_translator.set_service_url('https://api.us-south.language-translator.watson.cloud.ibm.com/instances/2ab53c20-b1ed-44e8-9ec9-68ed2dfa5d84')\n",
    "\n",
    "translation = language_translator.translate(\n",
    "    text='Procesos de diseño, producción de piezas y máquinas en empresas como: Continental Tyres, General Motors Omnibuses BB, Metaltronic, Aymesa, Indufrance, entre otras, donde requieren de ingenieros innovadores para que sus productos puedan ser aceptados no solamente a nivel nacional sino también internacional mediante el uso de paquetes informáticos. Campos de investigación, desarrollo, innovación y tecnificación a nivel industrial o educativo, donde se requiere de Ingenieros mecánicos los cuales puedan mediante la investigación brindar un valor agregado a los productos y que de esta manera sean innovadores, aplicando la automatización industrial.',\n",
    "    model_id='es-fr').get_result()\n",
    "print(json.dumps(translation, indent=2, ensure_ascii=False))"
   ]
  },
  {
   "cell_type": "code",
   "execution_count": 30,
   "metadata": {},
   "outputs": [],
   "source": [
    "import json\n",
    "from ibm_watson import NaturalLanguageUnderstandingV1\n",
    "from ibm_cloud_sdk_core.authenticators import IAMAuthenticator\n",
    "from ibm_watson.natural_language_understanding_v1 import Features, CategoriesOptions"
   ]
  },
  {
   "cell_type": "code",
   "execution_count": 35,
   "metadata": {},
   "outputs": [
    {
     "name": "stdout",
     "output_type": "stream",
     "text": [
      "{\n",
      "  \"usage\": {\n",
      "    \"text_units\": 1,\n",
      "    \"text_characters\": 652,\n",
      "    \"features\": 1\n",
      "  },\n",
      "  \"retrieved_url\": \"https://www.ups.edu.ec/\",\n",
      "  \"language\": \"es\",\n",
      "  \"categories\": [\n",
      "    {\n",
      "      \"score\": 0.908579,\n",
      "      \"label\": \"/education\"\n",
      "    },\n",
      "    {\n",
      "      \"score\": 0.88368,\n",
      "      \"label\": \"/education/studying business\"\n",
      "    },\n",
      "    {\n",
      "      \"score\": 0.83594,\n",
      "      \"label\": \"/education/homework and study tips\"\n",
      "    }\n",
      "  ]\n",
      "}\n"
     ]
    }
   ],
   "source": [
    "authenticator = IAMAuthenticator('EmuY5qZ5vxtk2vVdTzVl6VRqboOwLEqDhn9GRTyNNhb6')\n",
    "natural_language_understanding = NaturalLanguageUnderstandingV1(\n",
    "    version='2019-07-12',\n",
    "    authenticator=authenticator\n",
    ")\n",
    "\n",
    "natural_language_understanding.set_service_url('https://api.us-south.natural-language-understanding.watson.cloud.ibm.com/instances/5619f19f-fbdd-4fa9-bd50-c21bccca7415')\n",
    "\n",
    "response = natural_language_understanding.analyze(\n",
    "    url='https://www.ups.edu.ec/',\n",
    "    features=Features(categories=CategoriesOptions(limit=3))).get_result()\n",
    "\n",
    "print(json.dumps(response, indent=2))"
   ]
  },
  {
   "cell_type": "code",
   "execution_count": 62,
   "metadata": {},
   "outputs": [],
   "source": [
    "import json\n",
    "from ibm_watson import NaturalLanguageUnderstandingV1\n",
    "from ibm_cloud_sdk_core.authenticators import IAMAuthenticator\n",
    "from ibm_watson.natural_language_understanding_v1 import Features, RelationsOptions\n"
   ]
  },
  {
   "cell_type": "code",
   "execution_count": 64,
   "metadata": {},
   "outputs": [
    {
     "name": "stdout",
     "output_type": "stream",
     "text": [
      "{\n",
      "  \"usage\": {\n",
      "    \"text_units\": 1,\n",
      "    \"text_characters\": 350,\n",
      "    \"features\": 1\n",
      "  },\n",
      "  \"relations\": [\n",
      "    {\n",
      "      \"type\": \"residesIn\",\n",
      "      \"sentence\": \"Torres Jara Paul Bolivar Education: Magister In Engineering Sciences With Mention In Mechanical Engineering, Fourth Level - Magister, Santiago De Chile Mechanical Engineer, Third Level - Engineer, Salesian Polytechnical University Subjects: Foundations Of Thermodynamics And Heat Transfer Resistance Of Materials Resistance Of Materials Ii Seminar  .\",\n",
      "      \"score\": 0.634594,\n",
      "      \"arguments\": [\n",
      "        {\n",
      "          \"text\": \"Mention\",\n",
      "          \"location\": [\n",
      "            74,\n",
      "            81\n",
      "          ],\n",
      "          \"entities\": [\n",
      "            {\n",
      "              \"type\": \"Person\",\n",
      "              \"text\": \"Mention\"\n",
      "            }\n",
      "          ]\n",
      "        },\n",
      "        {\n",
      "          \"text\": \"Mechanical Engineering\",\n",
      "          \"location\": [\n",
      "            85,\n",
      "            107\n",
      "          ],\n",
      "          \"entities\": [\n",
      "            {\n",
      "              \"type\": \"GeopoliticalEntity\",\n",
      "              \"text\": \"Mechanical Engineering\"\n",
      "            }\n",
      "          ]\n",
      "        }\n",
      "      ]\n",
      "    },\n",
      "    {\n",
      "      \"type\": \"basedIn\",\n",
      "      \"sentence\": \"Torres Jara Paul Bolivar Education: Magister In Engineering Sciences With Mention In Mechanical Engineering, Fourth Level - Magister, Santiago De Chile Mechanical Engineer, Third Level - Engineer, Salesian Polytechnical University Subjects: Foundations Of Thermodynamics And Heat Transfer Resistance Of Materials Resistance Of Materials Ii Seminar  .\",\n",
      "      \"score\": 0.530122,\n",
      "      \"arguments\": [\n",
      "        {\n",
      "          \"text\": \"Fourth Level - Magister\",\n",
      "          \"location\": [\n",
      "            109,\n",
      "            132\n",
      "          ],\n",
      "          \"entities\": [\n",
      "            {\n",
      "              \"type\": \"Organization\",\n",
      "              \"text\": \"Fourth Level - Magister\",\n",
      "              \"disambiguation\": {\n",
      "                \"subtype\": [\n",
      "                  \"Commercial\"\n",
      "                ]\n",
      "              }\n",
      "            }\n",
      "          ]\n",
      "        },\n",
      "        {\n",
      "          \"text\": \"Mechanical Engineering\",\n",
      "          \"location\": [\n",
      "            85,\n",
      "            107\n",
      "          ],\n",
      "          \"entities\": [\n",
      "            {\n",
      "              \"type\": \"GeopoliticalEntity\",\n",
      "              \"text\": \"Mechanical Engineering\"\n",
      "            }\n",
      "          ]\n",
      "        }\n",
      "      ]\n",
      "    },\n",
      "    {\n",
      "      \"type\": \"productOf\",\n",
      "      \"sentence\": \"Torres Jara Paul Bolivar Education: Magister In Engineering Sciences With Mention In Mechanical Engineering, Fourth Level - Magister, Santiago De Chile Mechanical Engineer, Third Level - Engineer, Salesian Polytechnical University Subjects: Foundations Of Thermodynamics And Heat Transfer Resistance Of Materials Resistance Of Materials Ii Seminar  .\",\n",
      "      \"score\": 0.488054,\n",
      "      \"arguments\": [\n",
      "        {\n",
      "          \"text\": \"Foundations Of Thermodynamics And Heat Transfer Resistance Of Materials Resistance Of Materials Ii Seminar\",\n",
      "          \"location\": [\n",
      "            241,\n",
      "            347\n",
      "          ],\n",
      "          \"entities\": [\n",
      "            {\n",
      "              \"type\": \"TitleWork\",\n",
      "              \"text\": \"Foundations Of Thermodynamics And Heat Transfer Resistance Of Materials Resistance Of Materials Ii Seminar\"\n",
      "            }\n",
      "          ]\n",
      "        },\n",
      "        {\n",
      "          \"text\": \"Salesian Polytechnical University\",\n",
      "          \"location\": [\n",
      "            197,\n",
      "            230\n",
      "          ],\n",
      "          \"entities\": [\n",
      "            {\n",
      "              \"type\": \"Organization\",\n",
      "              \"text\": \"Salesian Polytechnical University\",\n",
      "              \"disambiguation\": {\n",
      "                \"subtype\": [\n",
      "                  \"Commercial\"\n",
      "                ]\n",
      "              }\n",
      "            }\n",
      "          ]\n",
      "        }\n",
      "      ]\n",
      "    }\n",
      "  ],\n",
      "  \"language\": \"en\"\n",
      "}\n"
     ]
    }
   ],
   "source": [
    "authenticator = IAMAuthenticator('EmuY5qZ5vxtk2vVdTzVl6VRqboOwLEqDhn9GRTyNNhb6')\n",
    "natural_language_understanding = NaturalLanguageUnderstandingV1(\n",
    "    version='2019-07-12',\n",
    "    authenticator=authenticator\n",
    ")\n",
    "\n",
    "natural_language_understanding.set_service_url('https://api.us-south.natural-language-understanding.watson.cloud.ibm.com/instances/5619f19f-fbdd-4fa9-bd50-c21bccca7415')\n",
    "\n",
    "response = natural_language_understanding.analyze(\n",
    "    text='Torres Jara Paul Bolivar Education: Magister In Engineering Sciences With Mention In Mechanical Engineering, Fourth Level - Magister, Santiago De Chile Mechanical Engineer, Third Level - Engineer, Salesian Polytechnical University Subjects: Foundations Of Thermodynamics And Heat Transfer Resistance Of Materials Resistance Of Materials Ii Seminar  .',\n",
    "    features=Features(relations=RelationsOptions())).get_result()\n",
    "\n",
    "print(json.dumps(response, indent=2))"
   ]
  },
  {
   "cell_type": "markdown",
   "metadata": {},
   "source": []
  },
  {
   "cell_type": "code",
   "execution_count": 1,
   "metadata": {},
   "outputs": [],
   "source": [
    "import json \n",
    "from ibm_watson import AssistantV2\n",
    "from ibm_cloud_sdk_core.authenticators import IAMAuthenticator"
   ]
  },
  {
   "cell_type": "code",
   "execution_count": 2,
   "metadata": {},
   "outputs": [
    {
     "name": "stdout",
     "output_type": "stream",
     "text": [
      "{\n",
      "  \"session_id\": \"4fb312f6-2892-4d28-ac3c-aa95d7bba3aa\"\n",
      "}\n",
      "4fb312f6-2892-4d28-ac3c-aa95d7bba3aa\n",
      "{\n",
      "  \"output\": {\n",
      "    \"intents\": [\n",
      "      {\n",
      "        \"intent\": \"Saludo\",\n",
      "        \"confidence\": 1\n",
      "      }\n",
      "    ],\n",
      "    \"entities\": [],\n",
      "    \"generic\": [\n",
      "      {\n",
      "        \"response_type\": \"text\",\n",
      "        \"text\": \"Hola. \\u00bfC\\u00f3mo puedo ayudarle?\"\n",
      "      }\n",
      "    ]\n",
      "  }\n",
      "}\n"
     ]
    }
   ],
   "source": [
    "authenticator = IAMAuthenticator('JNh_Ddv2r-fzCtgejiuEdzHqevBAl0K4NV3QtcCOi417')\n",
    "assistant = AssistantV2(\n",
    "    version='2019-07-12',\n",
    "    authenticator=authenticator\n",
    ")\n",
    "\n",
    "assistant.set_service_url('https://api.us-south.assistant.watson.cloud.ibm.com/instances/96fc7799-2790-4403-878a-076604955af7')\n",
    "\n",
    "assistant.set_disable_ssl_verification(False)\n",
    "session = assistant.create_session(\"17aa8f20-a110-4652-8357-08e05df4f20f\").get_result()\n",
    "print(json.dumps(session, indent=2))\n",
    "print(session[\"session_id\"])\n",
    "\n",
    "message = assistant.message(\n",
    "    \"17aa8f20-a110-4652-8357-08e05df4f20f\",\n",
    "    session[\"session_id\"],\n",
    "    input={\n",
    "        'message_type': 'text',\n",
    "        'text': 'Hola',\n",
    "    }).get_result()\n",
    "print(json.dumps(message, indent=2))\n"
   ]
  },
  {
   "cell_type": "code",
   "execution_count": 6,
   "metadata": {
    "scrolled": true
   },
   "outputs": [
    {
     "name": "stdout",
     "output_type": "stream",
     "text": [
      "{\n",
      "  \"session_id\": \"9ea85637-15bc-4622-bd69-128ee990c0d7\"\n",
      "}\n",
      "9ea85637-15bc-4622-bd69-128ee990c0d7\n"
     ]
    },
    {
     "ename": "KeyError",
     "evalue": "'text'",
     "output_type": "error",
     "traceback": [
      "\u001b[1;31m---------------------------------------------------------------------------\u001b[0m",
      "\u001b[1;31mKeyError\u001b[0m                                  Traceback (most recent call last)",
      "\u001b[1;32m<ipython-input-6-92d745f7491c>\u001b[0m in \u001b[0;36m<module>\u001b[1;34m\u001b[0m\n\u001b[0;32m     20\u001b[0m     }).get_result()\n\u001b[0;32m     21\u001b[0m \u001b[1;33m\u001b[0m\u001b[0m\n\u001b[1;32m---> 22\u001b[1;33m \u001b[0mmen\u001b[0m\u001b[1;33m=\u001b[0m\u001b[0mmessage\u001b[0m\u001b[1;33m[\u001b[0m\u001b[1;34m'output'\u001b[0m\u001b[1;33m]\u001b[0m\u001b[1;33m[\u001b[0m\u001b[1;34m'generic'\u001b[0m\u001b[1;33m]\u001b[0m\u001b[1;33m[\u001b[0m\u001b[1;36m0\u001b[0m\u001b[1;33m]\u001b[0m\u001b[1;33m[\u001b[0m\u001b[1;34m'text'\u001b[0m\u001b[1;33m]\u001b[0m\u001b[1;33m\u001b[0m\u001b[1;33m\u001b[0m\u001b[0m\n\u001b[0m\u001b[0;32m     23\u001b[0m \u001b[0mprint\u001b[0m\u001b[1;33m(\u001b[0m\u001b[0mmen\u001b[0m\u001b[1;33m)\u001b[0m\u001b[1;33m\u001b[0m\u001b[1;33m\u001b[0m\u001b[0m\n",
      "\u001b[1;31mKeyError\u001b[0m: 'text'"
     ]
    }
   ],
   "source": [
    "authenticator = IAMAuthenticator('JNh_Ddv2r-fzCtgejiuEdzHqevBAl0K4NV3QtcCOi417')\n",
    "assistant = AssistantV2(\n",
    "    version='2019-07-12',\n",
    "    authenticator=authenticator\n",
    ")\n",
    "\n",
    "assistant.set_service_url('https://api.us-south.assistant.watson.cloud.ibm.com/instances/96fc7799-2790-4403-878a-076604955af7')\n",
    "\n",
    "assistant.set_disable_ssl_verification(False)\n",
    "session = assistant.create_session(\"17aa8f20-a110-4652-8357-08e05df4f20f\").get_result()\n",
    "print(json.dumps(session, indent=2))\n",
    "print(session[\"session_id\"])\n",
    "\n",
    "message = assistant.message(\n",
    "    \"17aa8f20-a110-4652-8357-08e05df4f20f\",\n",
    "    session[\"session_id\"],\n",
    "    input={\n",
    "        'message_type': 'text',\n",
    "        'text': 'Asignatura',\n",
    "    }).get_result()\n",
    "\n",
    "men=message['output']['generic'][0]['text']\n",
    "print(men)"
   ]
  },
  {
   "cell_type": "markdown",
   "metadata": {},
   "source": [
    "# Final"
   ]
  },
  {
   "cell_type": "code",
   "execution_count": 1,
   "metadata": {},
   "outputs": [],
   "source": [
    "import json\n",
    "from ibm_watson import AssistantV2\n",
    "from ibm_cloud_sdk_core.authenticators import IAMAuthenticator"
   ]
  },
  {
   "cell_type": "code",
   "execution_count": 2,
   "metadata": {},
   "outputs": [],
   "source": [
    "authenticator = IAMAuthenticator('JNh_Ddv2r-fzCtgejiuEdzHqevBAl0K4NV3QtcCOi417')\n",
    "assistant = AssistantV2(\n",
    "    version='2019-07-12',\n",
    "    authenticator=authenticator\n",
    ")\n",
    "\n",
    "assistant.set_service_url('https://api.us-south.assistant.watson.cloud.ibm.com/instances/96fc7799-2790-4403-878a-076604955af7')\n",
    "\n",
    "assistant.set_disable_ssl_verification(False)"
   ]
  },
  {
   "cell_type": "code",
   "execution_count": 3,
   "metadata": {},
   "outputs": [
    {
     "name": "stdout",
     "output_type": "stream",
     "text": [
      "{\n",
      "  \"session_id\": \"991a4f43-2470-4b5c-8898-8b45c2db4f84\"\n",
      "}\n",
      "991a4f43-2470-4b5c-8898-8b45c2db4f84\n"
     ]
    }
   ],
   "source": [
    "session = assistant.create_session(\"17aa8f20-a110-4652-8357-08e05df4f20f\").get_result()\n",
    "print(json.dumps(session, indent=2))\n",
    "print(session[\"session_id\"])"
   ]
  },
  {
   "cell_type": "code",
   "execution_count": 4,
   "metadata": {},
   "outputs": [
    {
     "name": "stdout",
     "output_type": "stream",
     "text": [
      "{\n",
      "  \"output\": {\n",
      "    \"intents\": [\n",
      "      {\n",
      "        \"intent\": \"Saludo\",\n",
      "        \"confidence\": 1\n",
      "      }\n",
      "    ],\n",
      "    \"entities\": [],\n",
      "    \"generic\": [\n",
      "      {\n",
      "        \"response_type\": \"text\",\n",
      "        \"text\": \"Hola. \\u00bfC\\u00f3mo puedo ayudarle?\"\n",
      "      }\n",
      "    ]\n",
      "  }\n",
      "}\n"
     ]
    }
   ],
   "source": [
    "message = assistant.message(\n",
    "    \"17aa8f20-a110-4652-8357-08e05df4f20f\",\n",
    "    session[\"session_id\"],\n",
    "    input={\n",
    "        'message_type': 'text',\n",
    "        'text': 'Hola',\n",
    "    }).get_result()\n",
    "print(json.dumps(message, indent=2))"
   ]
  },
  {
   "cell_type": "code",
   "execution_count": 5,
   "metadata": {},
   "outputs": [
    {
     "name": "stdout",
     "output_type": "stream",
     "text": [
      "Ellos pueden ser tus guias\n"
     ]
    }
   ],
   "source": [
    "message = assistant.message(\n",
    "    \"17aa8f20-a110-4652-8357-08e05df4f20f\",\n",
    "    session[\"session_id\"],\n",
    "    input={\n",
    "        'message_type': 'text',\n",
    "        'text': 'maestros',\n",
    "    }).get_result()\n",
    "\n",
    "mes=message['output']['generic'][0]['text']\n",
    "print(mes)"
   ]
  },
  {
   "cell_type": "code",
   "execution_count": 6,
   "metadata": {},
   "outputs": [],
   "source": [
    "import pymysql\n",
    "con = pymysql.connect( host=\"localhost\", user=\"root\", passwd=\"\", db=\"pre\")\n",
    "cursor = con.cursor(pymysql.cursors.DictCursor)"
   ]
  },
  {
   "cell_type": "code",
   "execution_count": 7,
   "metadata": {},
   "outputs": [
    {
     "ename": "IndexError",
     "evalue": "tuple index out of range",
     "output_type": "error",
     "traceback": [
      "\u001b[1;31m---------------------------------------------------------------------------\u001b[0m",
      "\u001b[1;31mIndexError\u001b[0m                                Traceback (most recent call last)",
      "\u001b[1;32m<ipython-input-7-0fb8b0969d23>\u001b[0m in \u001b[0;36m<module>\u001b[1;34m\u001b[0m\n\u001b[0;32m     15\u001b[0m \u001b[1;33m\u001b[0m\u001b[0m\n\u001b[0;32m     16\u001b[0m \u001b[0mguardarPregunta\u001b[0m\u001b[1;33m(\u001b[0m\u001b[0mcon\u001b[0m\u001b[1;33m,\u001b[0m\u001b[1;34m\"Hola\"\u001b[0m\u001b[1;33m,\u001b[0m\u001b[0mmes\u001b[0m\u001b[1;33m,\u001b[0m\u001b[1;34m\"Christian Hernandez\"\u001b[0m\u001b[1;33m)\u001b[0m\u001b[1;33m\u001b[0m\u001b[1;33m\u001b[0m\u001b[0m\n\u001b[1;32m---> 17\u001b[1;33m \u001b[0mmensaje\u001b[0m \u001b[1;33m=\u001b[0m \u001b[0mbuscarRespuesta\u001b[0m\u001b[1;33m(\u001b[0m\u001b[0mcon\u001b[0m\u001b[1;33m,\u001b[0m \u001b[1;34m\"Christian\"\u001b[0m\u001b[1;33m)\u001b[0m\u001b[1;33m\u001b[0m\u001b[1;33m\u001b[0m\u001b[0m\n\u001b[0m\u001b[0;32m     18\u001b[0m \u001b[0mprint\u001b[0m\u001b[1;33m(\u001b[0m\u001b[0mmensaje\u001b[0m\u001b[1;33m)\u001b[0m\u001b[1;33m\u001b[0m\u001b[1;33m\u001b[0m\u001b[0m\n",
      "\u001b[1;32m<ipython-input-7-0fb8b0969d23>\u001b[0m in \u001b[0;36mbuscarRespuesta\u001b[1;34m(con, pregunta)\u001b[0m\n\u001b[0;32m     10\u001b[0m     \u001b[0mcursor\u001b[0m\u001b[1;33m.\u001b[0m\u001b[0mexecute\u001b[0m\u001b[1;33m(\u001b[0m\u001b[1;34m\"SELECT p.respuesta FROM dialogo p WHERE p.pregunta = %s\"\u001b[0m\u001b[1;33m,\u001b[0m\u001b[1;33m(\u001b[0m\u001b[0mpregunta\u001b[0m\u001b[1;33m)\u001b[0m\u001b[1;33m)\u001b[0m\u001b[1;33m\u001b[0m\u001b[1;33m\u001b[0m\u001b[0m\n\u001b[0;32m     11\u001b[0m     \u001b[0mres\u001b[0m \u001b[1;33m=\u001b[0m \u001b[0mcursor\u001b[0m\u001b[1;33m.\u001b[0m\u001b[0mfetchall\u001b[0m\u001b[1;33m(\u001b[0m\u001b[1;33m)\u001b[0m\u001b[1;33m\u001b[0m\u001b[1;33m\u001b[0m\u001b[0m\n\u001b[1;32m---> 12\u001b[1;33m     \u001b[0mress\u001b[0m \u001b[1;33m=\u001b[0m \u001b[0mres\u001b[0m\u001b[1;33m[\u001b[0m\u001b[1;36m0\u001b[0m\u001b[1;33m]\u001b[0m\u001b[1;33m\u001b[0m\u001b[1;33m\u001b[0m\u001b[0m\n\u001b[0m\u001b[0;32m     13\u001b[0m     \u001b[0mcon\u001b[0m\u001b[1;33m.\u001b[0m\u001b[0mcommit\u001b[0m\u001b[1;33m(\u001b[0m\u001b[1;33m)\u001b[0m\u001b[1;33m\u001b[0m\u001b[1;33m\u001b[0m\u001b[0m\n\u001b[0;32m     14\u001b[0m     \u001b[1;32mreturn\u001b[0m \u001b[1;33m(\u001b[0m\u001b[0mress\u001b[0m\u001b[1;33m[\u001b[0m\u001b[1;34m'respuesta'\u001b[0m\u001b[1;33m]\u001b[0m\u001b[1;33m)\u001b[0m\u001b[1;33m\u001b[0m\u001b[1;33m\u001b[0m\u001b[0m\n",
      "\u001b[1;31mIndexError\u001b[0m: tuple index out of range"
     ]
    }
   ],
   "source": [
    "def guardarPregunta(con, pregunta, respuesta, traducion):\n",
    "    cursor = con.cursor(pymysql.cursors.DictCursor)\n",
    "    cursor.execute(\"INSERT INTO dialogo(id, pregunta, respuesta) VALUES (0,%s,%s)\",\n",
    "                   (pregunta, respuesta))\n",
    "    cursor.fetchall()\n",
    "    con.commit()\n",
    "\n",
    "def buscarRespuesta(con, pregunta):\n",
    "    cursor = con.cursor(pymysql.cursors.DictCursor)\n",
    "    cursor.execute(\"SELECT p.respuesta FROM dialogo p WHERE p.pregunta = %s\",(pregunta))\n",
    "    res = cursor.fetchall()\n",
    "    ress = res[0]\n",
    "    con.commit()\n",
    "    return (ress['respuesta'])\n",
    "\n",
    "guardarPregunta(con,\"Hola\",mes,\"Christian Hernandez\")\n",
    "mensaje = buscarRespuesta(con, \"Christian\")\n",
    "print(mensaje)"
   ]
  },
  {
   "cell_type": "code",
   "execution_count": null,
   "metadata": {},
   "outputs": [],
   "source": []
  },
  {
   "cell_type": "code",
   "execution_count": null,
   "metadata": {},
   "outputs": [],
   "source": []
  }
 ],
 "metadata": {
  "kernelspec": {
   "display_name": "Python 3",
   "language": "python",
   "name": "python3"
  },
  "language_info": {
   "codemirror_mode": {
    "name": "ipython",
    "version": 3
   },
   "file_extension": ".py",
   "mimetype": "text/x-python",
   "name": "python",
   "nbconvert_exporter": "python",
   "pygments_lexer": "ipython3",
   "version": "3.8.3"
  }
 },
 "nbformat": 4,
 "nbformat_minor": 4
}
